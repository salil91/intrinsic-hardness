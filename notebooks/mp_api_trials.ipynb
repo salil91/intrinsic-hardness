{
 "cells": [
  {
   "cell_type": "markdown",
   "metadata": {
    "pycharm": {
     "name": "#%% md\n"
    },
    "tags": []
   },
   "source": [
    "# Use Matminer to download dataset and calculate intrinsic hardness"
   ]
  },
  {
   "cell_type": "markdown",
   "metadata": {
    "pycharm": {
     "name": "#%% md\n"
    }
   },
   "source": [
    "## Import libraries"
   ]
  },
  {
   "cell_type": "code",
   "execution_count": 56,
   "metadata": {
    "pycharm": {
     "is_executing": true,
     "name": "#%%\n"
    }
   },
   "outputs": [],
   "source": [
    "import sys\n",
    "from pathlib import Path\n",
    "\n",
    "from tqdm.notebook import tqdm\n",
    "from matminer.datasets import load_dataset\n",
    "from pymatgen.io.cif import CifWriter\n",
    "\n",
    "sys.path.append('..')\n",
    "import bond_detectors, hardness_calculators"
   ]
  },
  {
   "cell_type": "code",
   "execution_count": null,
   "metadata": {},
   "outputs": [],
   "source": [
    "data_dir = Path.cwd().parent / \"data\""
   ]
  },
  {
   "cell_type": "markdown",
   "metadata": {},
   "source": [
    "## Import matminer brgoch dataset"
   ]
  },
  {
   "cell_type": "code",
   "execution_count": 53,
   "metadata": {
    "pycharm": {
     "is_executing": true,
     "name": "#%%\n"
    }
   },
   "outputs": [
    {
     "data": {
      "text/html": [
       "<div>\n",
       "<style scoped>\n",
       "    .dataframe tbody tr th:only-of-type {\n",
       "        vertical-align: middle;\n",
       "    }\n",
       "\n",
       "    .dataframe tbody tr th {\n",
       "        vertical-align: top;\n",
       "    }\n",
       "\n",
       "    .dataframe thead th {\n",
       "        text-align: right;\n",
       "    }\n",
       "</style>\n",
       "<table border=\"1\" class=\"dataframe\">\n",
       "  <thead>\n",
       "    <tr style=\"text-align: right;\">\n",
       "      <th></th>\n",
       "      <th>formula</th>\n",
       "      <th>bulk_modulus</th>\n",
       "      <th>shear_modulus</th>\n",
       "      <th>composition</th>\n",
       "      <th>material_id</th>\n",
       "      <th>structure</th>\n",
       "      <th>brgoch_feats</th>\n",
       "      <th>suspect_value</th>\n",
       "    </tr>\n",
       "  </thead>\n",
       "  <tbody>\n",
       "    <tr>\n",
       "      <th>0</th>\n",
       "      <td>AlPt3</td>\n",
       "      <td>225.230461</td>\n",
       "      <td>91.197748</td>\n",
       "      <td>(Al, Pt)</td>\n",
       "      <td>mp-188</td>\n",
       "      <td>[[0. 0. 0.] Al, [0.         1.96140395 1.96140...</td>\n",
       "      <td>{'atomic_number_feat_1': 123.5, 'atomic_number...</td>\n",
       "      <td>False</td>\n",
       "    </tr>\n",
       "    <tr>\n",
       "      <th>1</th>\n",
       "      <td>Mn2Nb</td>\n",
       "      <td>232.696340</td>\n",
       "      <td>74.590157</td>\n",
       "      <td>(Mn, Nb)</td>\n",
       "      <td>mp-12659</td>\n",
       "      <td>[[-2.23765223e-08  1.42974191e+00  5.92614104e...</td>\n",
       "      <td>{'atomic_number_feat_1': 45.5, 'atomic_number_...</td>\n",
       "      <td>False</td>\n",
       "    </tr>\n",
       "    <tr>\n",
       "      <th>2</th>\n",
       "      <td>HfO2</td>\n",
       "      <td>204.573433</td>\n",
       "      <td>98.564374</td>\n",
       "      <td>(Hf, O)</td>\n",
       "      <td>mp-352</td>\n",
       "      <td>[[2.24450185 3.85793022 4.83390736] O, [2.7788...</td>\n",
       "      <td>{'atomic_number_feat_1': 44.0, 'atomic_number_...</td>\n",
       "      <td>False</td>\n",
       "    </tr>\n",
       "    <tr>\n",
       "      <th>3</th>\n",
       "      <td>Cu3Pt</td>\n",
       "      <td>159.312640</td>\n",
       "      <td>51.778816</td>\n",
       "      <td>(Cu, Pt)</td>\n",
       "      <td>mp-12086</td>\n",
       "      <td>[[0.         1.86144248 1.86144248] Cu, [1.861...</td>\n",
       "      <td>{'atomic_number_feat_1': 82.5, 'atomic_number_...</td>\n",
       "      <td>False</td>\n",
       "    </tr>\n",
       "    <tr>\n",
       "      <th>4</th>\n",
       "      <td>Mg3Pt</td>\n",
       "      <td>69.637565</td>\n",
       "      <td>27.588765</td>\n",
       "      <td>(Mg, Pt)</td>\n",
       "      <td>mp-18707</td>\n",
       "      <td>[[0.         0.         2.73626461] Mg, [0.   ...</td>\n",
       "      <td>{'atomic_number_feat_1': 57.0, 'atomic_number_...</td>\n",
       "      <td>False</td>\n",
       "    </tr>\n",
       "    <tr>\n",
       "      <th>...</th>\n",
       "      <td>...</td>\n",
       "      <td>...</td>\n",
       "      <td>...</td>\n",
       "      <td>...</td>\n",
       "      <td>...</td>\n",
       "      <td>...</td>\n",
       "      <td>...</td>\n",
       "      <td>...</td>\n",
       "    </tr>\n",
       "    <tr>\n",
       "      <th>2569</th>\n",
       "      <td>MgAsPt5</td>\n",
       "      <td>181.857661</td>\n",
       "      <td>70.362793</td>\n",
       "      <td>(Mg, As, Pt)</td>\n",
       "      <td>mp-865146</td>\n",
       "      <td>[[1.99379423 1.99379423 0.        ] Mg, [0.   ...</td>\n",
       "      <td>{'atomic_number_feat_1': 145.0, 'atomic_number...</td>\n",
       "      <td>False</td>\n",
       "    </tr>\n",
       "    <tr>\n",
       "      <th>2570</th>\n",
       "      <td>YCBr</td>\n",
       "      <td>22.970769</td>\n",
       "      <td>9.733656</td>\n",
       "      <td>(Y, C, Br)</td>\n",
       "      <td>mp-643367</td>\n",
       "      <td>[[0.66584097 1.92338676 8.4823332 ] Y, [-0.645...</td>\n",
       "      <td>{'atomic_number_feat_1': 26.6666666666667, 'at...</td>\n",
       "      <td>False</td>\n",
       "    </tr>\n",
       "    <tr>\n",
       "      <th>2571</th>\n",
       "      <td>NaTiO2</td>\n",
       "      <td>98.358957</td>\n",
       "      <td>70.565034</td>\n",
       "      <td>(Na, Ti, O)</td>\n",
       "      <td>mp-7002</td>\n",
       "      <td>[[ 3.31024633  2.00832854 11.99124842] O, [1.0...</td>\n",
       "      <td>{'atomic_number_feat_1': 16.3333333333333, 'at...</td>\n",
       "      <td>False</td>\n",
       "    </tr>\n",
       "    <tr>\n",
       "      <th>2572</th>\n",
       "      <td>KCuSe</td>\n",
       "      <td>34.111565</td>\n",
       "      <td>21.586576</td>\n",
       "      <td>(K, Cu, Se)</td>\n",
       "      <td>mp-7435</td>\n",
       "      <td>[[0. 0. 0.] K, [0.         0.         4.903557...</td>\n",
       "      <td>{'atomic_number_feat_1': 27.3333333333333, 'at...</td>\n",
       "      <td>False</td>\n",
       "    </tr>\n",
       "    <tr>\n",
       "      <th>2573</th>\n",
       "      <td>Y3Al5O12</td>\n",
       "      <td>168.580800</td>\n",
       "      <td>101.413900</td>\n",
       "      <td>(Y, Al, O)</td>\n",
       "      <td>mp-3050</td>\n",
       "      <td>[[ 3.55901406  5.8271786  -3.97983702] O, [ 5....</td>\n",
       "      <td>{'atomic_number_feat_1': 92.6666666666667, 'at...</td>\n",
       "      <td>False</td>\n",
       "    </tr>\n",
       "  </tbody>\n",
       "</table>\n",
       "<p>2540 rows × 8 columns</p>\n",
       "</div>"
      ],
      "text/plain": [
       "       formula  bulk_modulus  shear_modulus   composition material_id  \\\n",
       "0        AlPt3    225.230461      91.197748      (Al, Pt)      mp-188   \n",
       "1        Mn2Nb    232.696340      74.590157      (Mn, Nb)    mp-12659   \n",
       "2         HfO2    204.573433      98.564374       (Hf, O)      mp-352   \n",
       "3        Cu3Pt    159.312640      51.778816      (Cu, Pt)    mp-12086   \n",
       "4        Mg3Pt     69.637565      27.588765      (Mg, Pt)    mp-18707   \n",
       "...        ...           ...            ...           ...         ...   \n",
       "2569   MgAsPt5    181.857661      70.362793  (Mg, As, Pt)   mp-865146   \n",
       "2570      YCBr     22.970769       9.733656    (Y, C, Br)   mp-643367   \n",
       "2571    NaTiO2     98.358957      70.565034   (Na, Ti, O)     mp-7002   \n",
       "2572     KCuSe     34.111565      21.586576   (K, Cu, Se)     mp-7435   \n",
       "2573  Y3Al5O12    168.580800     101.413900    (Y, Al, O)     mp-3050   \n",
       "\n",
       "                                              structure  \\\n",
       "0     [[0. 0. 0.] Al, [0.         1.96140395 1.96140...   \n",
       "1     [[-2.23765223e-08  1.42974191e+00  5.92614104e...   \n",
       "2     [[2.24450185 3.85793022 4.83390736] O, [2.7788...   \n",
       "3     [[0.         1.86144248 1.86144248] Cu, [1.861...   \n",
       "4     [[0.         0.         2.73626461] Mg, [0.   ...   \n",
       "...                                                 ...   \n",
       "2569  [[1.99379423 1.99379423 0.        ] Mg, [0.   ...   \n",
       "2570  [[0.66584097 1.92338676 8.4823332 ] Y, [-0.645...   \n",
       "2571  [[ 3.31024633  2.00832854 11.99124842] O, [1.0...   \n",
       "2572  [[0. 0. 0.] K, [0.         0.         4.903557...   \n",
       "2573  [[ 3.55901406  5.8271786  -3.97983702] O, [ 5....   \n",
       "\n",
       "                                           brgoch_feats  suspect_value  \n",
       "0     {'atomic_number_feat_1': 123.5, 'atomic_number...          False  \n",
       "1     {'atomic_number_feat_1': 45.5, 'atomic_number_...          False  \n",
       "2     {'atomic_number_feat_1': 44.0, 'atomic_number_...          False  \n",
       "3     {'atomic_number_feat_1': 82.5, 'atomic_number_...          False  \n",
       "4     {'atomic_number_feat_1': 57.0, 'atomic_number_...          False  \n",
       "...                                                 ...            ...  \n",
       "2569  {'atomic_number_feat_1': 145.0, 'atomic_number...          False  \n",
       "2570  {'atomic_number_feat_1': 26.6666666666667, 'at...          False  \n",
       "2571  {'atomic_number_feat_1': 16.3333333333333, 'at...          False  \n",
       "2572  {'atomic_number_feat_1': 27.3333333333333, 'at...          False  \n",
       "2573  {'atomic_number_feat_1': 92.6666666666667, 'at...          False  \n",
       "\n",
       "[2540 rows x 8 columns]"
      ]
     },
     "execution_count": 53,
     "metadata": {},
     "output_type": "execute_result"
    }
   ],
   "source": [
    "df = load_dataset(\"brgoch_superhard_training\")\n",
    "df.dropna(subset=[\"structure\", \"material_id\"], inplace=True)\n",
    "df"
   ]
  },
  {
   "cell_type": "markdown",
   "metadata": {
    "tags": []
   },
   "source": [
    "## Calculate hardness"
   ]
  },
  {
   "cell_type": "markdown",
   "metadata": {
    "tags": []
   },
   "source": [
    "### Pugh's hardness\n",
    "Chen, X.-Q., Niu, H., Li, D. & Li, Y., 2011. Modeling hardness of polycrystalline materials and bulk metallic glasses. Intermetallics 19, 1275–1281.\n",
    "\n",
    "$\n",
    "\\displaystyle H_V=2\\left( \\frac{G^3}{K^2} \\right)^{0.585} - 3\n",
    "$"
   ]
  },
  {
   "cell_type": "code",
   "execution_count": 54,
   "metadata": {},
   "outputs": [],
   "source": [
    "df[\"pugh_hardness\"] = 2*((df[\"shear_modulus\"]**3)/(df[\"bulk_modulus\"]**2))**0.585 - 3"
   ]
  },
  {
   "cell_type": "markdown",
   "metadata": {
    "pycharm": {
     "name": "#%%\n"
    }
   },
   "source": [
    "### CAS hardness\n",
    "Cheenady, A.A., Awasthi, A., Subhash, G., 2021. Intrinsic hardness of covalent crystals: a unified multiparametric framework. J. Mater. Sci. 56, 11711–11722.\n",
    "\n",
    "$\n",
    "\\displaystyle H_{C} = 986 \\left(\\frac{N_b}{V}\\right)^{0.844} \\left[ \\prod_{ab=1}^N Z_{ij}^{0.006} d^{-3.18}  e^{-2.44fi_{ab}} \\right]^{1/N} \\\\\n",
    "\\displaystyle Z_{ab} = \\frac{\\chi_a}{n_a} \\frac{\\chi_b}{n_b} \\\\\n",
    "\\displaystyle fi_{ab} = \\left( \\frac{\\chi_a - \\chi_b}{\\chi_a + \\chi_b} \\right)^2\n",
    "$"
   ]
  },
  {
   "cell_type": "code",
   "execution_count": null,
   "metadata": {},
   "outputs": [
    {
     "data": {
      "application/vnd.jupyter.widget-view+json": {
       "model_id": "a0114efdadb34e829ec4b214b9b2fe01",
       "version_major": 2,
       "version_minor": 0
      },
      "text/plain": [
       "  0%|          | 0/2540 [00:00<?, ?it/s]"
      ]
     },
     "metadata": {},
     "output_type": "display_data"
    },
    {
     "name": "stderr",
     "output_type": "stream",
     "text": [
      "/home/salil.bavdekar/.conda/envs/mp_pymatgen/lib/python3.10/site-packages/pymatgen/analysis/local_env.py:4133: UserWarning: No oxidation states specified on sites! For better results, set the site oxidation states in the structure.\n",
      "  warnings.warn(\n",
      "/home/salil.bavdekar/.conda/envs/mp_pymatgen/lib/python3.10/site-packages/pymatgen/analysis/local_env.py:3936: UserWarning: CrystalNN: cannot locate an appropriate radius, covalent or atomic radii will be used, this can lead to non-optimal results.\n",
      "  warnings.warn(\n"
     ]
    }
   ],
   "source": [
    "for row in tqdm(df.itertuples(), total=len(df)):\n",
    "    structure = row.structure\n",
    "    bonds = bond_detectors.detect_bonds(structure)\n",
    "    hardness = hardness_calculators.calculate_hardness(structure, bonds, model=\"CAS\")\n",
    "df[\"bonds\"] = bonds\n",
    "df[\"hardness\"] = hardness"
   ]
  },
  {
   "cell_type": "markdown",
   "metadata": {},
   "source": [
    "### Save DataFrame"
   ]
  },
  {
   "cell_type": "code",
   "execution_count": null,
   "metadata": {},
   "outputs": [],
   "source": [
    "df.to_csv(data_dir / \"data.csv\")\n",
    "df.to_pickle(data_dir / \"data.pkl\")\n",
    "df.to_excel(data_dir / \"data.xlsx\")\n",
    "df"
   ]
  },
  {
   "cell_type": "markdown",
   "metadata": {},
   "source": [
    "## Save as CIF file"
   ]
  },
  {
   "cell_type": "code",
   "execution_count": 47,
   "metadata": {},
   "outputs": [
    {
     "data": {
      "application/vnd.jupyter.widget-view+json": {
       "model_id": "271da58224414d52ae47caedbcc2c580",
       "version_major": 2,
       "version_minor": 0
      },
      "text/plain": [
       "  0%|          | 0/2574 [00:00<?, ?it/s]"
      ]
     },
     "metadata": {},
     "output_type": "display_data"
    },
    {
     "name": "stdout",
     "output_type": "stream",
     "text": [
      "AttributeError: MnO2\n",
      "AttributeError: MnS\n",
      "AttributeError: NiAs\n",
      "AttributeError: TiNi\n",
      "AttributeError: WO2\n",
      "AttributeError: TiNCl\n",
      "AttributeError: YMgPd\n",
      "AttributeError: K2PdCl4\n",
      "AttributeError: MgPPt5\n",
      "AttributeError: CaMnO3\n",
      "AttributeError: CoAgO2\n",
      "AttributeError: MgNiSb\n",
      "AttributeError: CaNiN\n",
      "AttributeError: Ca2ZnN2\n",
      "AttributeError: YPPt\n",
      "AttributeError: AlFeF5\n",
      "AttributeError: Ba(MgSb)2\n",
      "AttributeError: Mg3NF3\n",
      "AttributeError: TiCuSi\n",
      "AttributeError: Zr2SbP\n",
      "AttributeError: TaNiGe\n",
      "AttributeError: Ca(ZnSb)2\n",
      "AttributeError: Zr2SN2\n",
      "AttributeError: ZrSnTe\n",
      "AttributeError: TiAlCo2\n",
      "AttributeError: CaFeO2\n",
      "AttributeError: ZrCoSn\n",
      "AttributeError: Ca3AlSb3\n",
      "AttributeError: SrAl9Co2\n",
      "AttributeError: Ca(GePd)2\n",
      "AttributeError: BaZnGe\n",
      "AttributeError: Cs2HfF6\n",
      "AttributeError: Mg2NF\n",
      "AttributeError: YNiSn\n"
     ]
    }
   ],
   "source": [
    "for row in tqdm(df.itertuples(), total=len(df)):\n",
    "    structure = row.structure\n",
    "    savepath = data_dir / f\"{row.material_id}.cif\"\n",
    "    try:\n",
    "        CifWriter(struct=structure).write_file(savepath)\n",
    "    except AttributeError:\n",
    "        print(f\"AttributeError: {row.formula}\")"
   ]
  },
  {
   "cell_type": "code",
   "execution_count": null,
   "metadata": {},
   "outputs": [],
   "source": []
  }
 ],
 "metadata": {
  "kernelspec": {
   "display_name": "Python 3 (ipykernel)",
   "language": "python",
   "name": "python3"
  },
  "language_info": {
   "codemirror_mode": {
    "name": "ipython",
    "version": 3
   },
   "file_extension": ".py",
   "mimetype": "text/x-python",
   "name": "python",
   "nbconvert_exporter": "python",
   "pygments_lexer": "ipython3",
   "version": "3.10.5"
  }
 },
 "nbformat": 4,
 "nbformat_minor": 4
}
